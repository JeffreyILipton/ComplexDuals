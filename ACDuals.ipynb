{
 "cells": [
  {
   "cell_type": "markdown",
   "metadata": {},
   "source": [
    "https://arxiv.org/pdf/1601.01754.pdf"
   ]
  },
  {
   "cell_type": "code",
   "execution_count": 1,
   "metadata": {},
   "outputs": [],
   "source": [
    "import numpy as np\n",
    "from math import *\n",
    "import matplotlib.pyplot as plt\n",
    "%matplotlib inline"
   ]
  },
  {
   "cell_type": "code",
   "execution_count": 2,
   "metadata": {},
   "outputs": [],
   "source": [
    "from math import *\n",
    "\n",
    "class ACDual:\n",
    "    def __init__(self, real, dual):\n",
    "        self.real = real\n",
    "        self.dual = dual\n",
    "    \n",
    "    @classmethod\n",
    "    def FromPt(cls,pt):\n",
    "        C = pt[0]+pt[1]*complex('j')\n",
    "        return cls(complex(1.0),C)\n",
    "\n",
    "    @classmethod\n",
    "    def RotateAngle(cls,theta):\n",
    "        ''' returns a ACDual for the rotation by theta\n",
    "            system is cos(theta/2) i*sin(theta/2) because its a double cover\n",
    "        '''\n",
    "        \n",
    "        c = cos(theta/2)\n",
    "        s = sin(theta/2)\n",
    "        return cls(c+s*complex('j'),0)\n",
    "\n",
    "    @classmethod\n",
    "    def Translate(cls,D):\n",
    "        ''' returns a ACDual for the translation by D\n",
    "            system is 1, 0*i, D[]0]/2 e ,D[1] i*e because its a double cover\n",
    "        '''\n",
    "        return cls(complex(1.0),D[0]/2+D[1]/2*complex('j'))\n",
    "    \n",
    "    @classmethod\n",
    "    def RotateAroundPoint(cls,theta,D):\n",
    "        \"\"\"Performs t(D)*R*T(D)inv to move the rotation point to the origin, rotate at the origin and then translate back\"\"\"\n",
    "        T = cls.Translate(D)\n",
    "        Tinv = cls.Translate([-D[0],-D[1]])\n",
    "        R = cls.RotateAngle(theta)\n",
    "        return T*R*Tinv\n",
    "        \n",
    "    def __toDual(self,other):\n",
    "        '''private function to convert numbers into ACDuals, '''\n",
    "        if isinstance(other, ACDual): return other\n",
    "        if isinstance(other,complex):return ACDual(other,0)\n",
    "        return ACDual(complex(other),0)\n",
    "        \n",
    "        \n",
    "    def __add__(self, other1):\n",
    "        other = self.__toDual(other1)\n",
    "        return ACDual(self.real + other.real,\n",
    "                      self.dual + other.dual)\n",
    "    __radd__ = __add__\n",
    "\n",
    "    def __sub__(self, other1):\n",
    "        other = self.__toDual(other1)\n",
    "        return ACDual(self.real - other.real,\n",
    "                          self.dual - other.dual)\n",
    "\n",
    "    def __rsub__(self, other):\n",
    "        return ACDual(other, 0) - self\n",
    "\n",
    "    def __truediv__(self, other1):\n",
    "        ''\n",
    "        other = self.__toDual(other1)\n",
    "        return ACDual(self.real/other.real,\n",
    "                     (self.dual*other.real - self.real*other.dual)/(other.real**2))\n",
    "\n",
    "    def __rtruediv__(self, other1):\n",
    "        other = self.__toDual(other1)\n",
    "        return other/self\n",
    "\n",
    "    def __pow__(self, other):\n",
    "        return ACDual(self.real**other,\n",
    "                          self.dual * other * self.real**(other - 1))\n",
    "\n",
    "    def involution(self):\n",
    "        return ACDual(self.real.conjugate(),self.dual)\n",
    "    \n",
    "    def __mul__(self, other1):\n",
    "        other = self.__toDual(other1)\n",
    "        return ACDual(self.real * other.real,\n",
    "                      self.dual * other.real.conjugate() + self.real * other.dual)\n",
    "    __rmul__ = __mul__\n",
    "    \n",
    "    def mag(self):\n",
    "        return sqrt(self.real*self.real.conjugate())\n",
    "    \n",
    "    def __matmul__(self,other):\n",
    "        return self*other*self.involution()\n",
    "    \n",
    "    def __rmatmul(self,other):\n",
    "        return other*self*other.involution()\n",
    "    \n",
    "    def asPt(self):\n",
    "        '''returns the XY point the dual component represents'''\n",
    "        C = self.dual\n",
    "        return C.real,C.imag\n",
    "    \n",
    "    def __repr__(self):\n",
    "        return repr(self.real) + ' + ' + repr(self.dual) + '*'+'\\u03B5'"
   ]
  },
  {
   "attachments": {
    "image.png": {
     "image/png": "[encoded data removed]"
    }
   },
   "cell_type": "markdown",
   "metadata": {},
   "source": [
    "![image.png](attachment:image.png)"
   ]
  },
  {
   "cell_type": "code",
   "execution_count": 5,
   "metadata": {},
   "outputs": [
    {
     "name": "stdout",
     "output_type": "stream",
     "text": [
      "(15.000000000000004, -5.000000000000001)\n",
      "(15.000000000000004, -5.0)\n"
     ]
    }
   ],
   "source": [
    "theta = np.pi/2\n",
    "P_start = (10,0)\n",
    "P_rot = (15,0)\n",
    "\n",
    "P = ACDual.FromPt(P_start)\n",
    "D = np.array(P_rot)\n",
    "\n",
    "T = ACDual.Translate(D)\n",
    "Tinv = ACDual.Translate(-D)\n",
    "R = ACDual.RotateAngle(theta)\n",
    "print((T@(R@(Tinv@P))).asPt())\n",
    "\n",
    "AboutD = ACDual.RotateAroundPoint(theta,D)\n",
    "\n",
    "P_end = (AboutD@P).asPt()\n",
    "print(P_end)"
   ]
  },
  {
   "cell_type": "code",
   "execution_count": 6,
   "metadata": {},
   "outputs": [
    {
     "data": {
      "image/png": "[encoded data removed]",
      "text/plain": [
       "<Figure size 432x288 with 1 Axes>"
      ]
     },
     "metadata": {
      "needs_background": "light"
     },
     "output_type": "display_data"
    }
   ],
   "source": [
    "fig, ax = plt.subplots()\n",
    "ax.plot(P_start[0],P_start[1],\"ko\")\n",
    "ax.plot(P_rot[0],P_rot[1],\"go\")\n",
    "ax.plot(P_end[0],P_end[1],\"bo\")\n",
    "#plt.axis('equal')\n",
    "ax.grid()\n",
    "ax.set_xlim(-10,20)\n",
    "ax.set_ylim(-10,10)\n",
    "ax.axhline(y=0, color='k')\n",
    "ax.axvline(x=0, color='k')\n",
    "plt.show()"
   ]
  },
  {
   "cell_type": "code",
   "execution_count": null,
   "metadata": {},
   "outputs": [],
   "source": []
  }
 ],
 "metadata": {
  "kernelspec": {
   "display_name": "Python 3",
   "language": "python",
   "name": "python3"
  },
  "language_info": {
   "codemirror_mode": {
    "name": "ipython",
    "version": 3
   },
   "file_extension": ".py",
   "mimetype": "text/x-python",
   "name": "python",
   "nbconvert_exporter": "python",
   "pygments_lexer": "ipython3",
   "version": "3.7.3"
  }
 },
 "nbformat": 4,
 "nbformat_minor": 2
}
